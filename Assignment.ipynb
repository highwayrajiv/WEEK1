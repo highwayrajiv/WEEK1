{
 "cells": [
  {
   "cell_type": "markdown",
   "metadata": {},
   "source": [
    "# Q. You are given a string and your task is to swap cases. In other words, convert all lowercase letters to uppercase letters and vice versa.\n",
    "\n",
    "input: 'This is mE 123'\n",
    "\n",
    "output: 'tHIS IS Me 123'\n",
    "\n"
   ]
  },
  {
   "cell_type": "code",
   "execution_count": 1,
   "metadata": {},
   "outputs": [
    {
     "data": {
      "text/plain": [
       "'tHIS IS Me 123'"
      ]
     },
     "execution_count": 1,
     "metadata": {},
     "output_type": "execute_result"
    }
   ],
   "source": [
    "a = 'This is mE 123'\n",
    "b = a.swapcase()\n",
    "b\n"
   ]
  },
  {
   "cell_type": "markdown",
   "metadata": {},
   "source": [
    "# Q. The user enters a string and a substring. You have to print the number of times that the substring occurs in the given string. String traversal will take place from left to right, not from right to left.\n",
    "\n",
    "Input: \n",
    "\n",
    "ABCDCDC\n",
    "\n",
    "CDC\n",
    "\n",
    "Output:\n",
    "\n",
    "2"
   ]
  },
  {
   "cell_type": "code",
   "execution_count": null,
   "metadata": {},
   "outputs": [],
   "source": [
    "e = input(\"string\")\n",
    "f = input(\"substring\" )\n",
    "\n",
    "count = 0\n",
    "for i in range(0, len(e) - len(f)+1):\n",
    "    if e[i:i+len(f)] == f:\n",
    "        count += 1\n",
    "\n",
    "count   "
   ]
  },
  {
   "cell_type": "markdown",
   "metadata": {},
   "source": [
    "\n",
    "### Q. You are given a string and your task is remove all Upper case letters.\n",
    "input: 'This is mE 123'\n",
    "\n",
    "output: 'his is m 123'"
   ]
  },
  {
   "cell_type": "code",
   "execution_count": 11,
   "metadata": {},
   "outputs": [
    {
     "name": "stdout",
     "output_type": "stream",
     "text": [
      "his is m 123"
     ]
    }
   ],
   "source": [
    "k = 'This is mE 123'\n",
    "for j in k:\n",
    "    if not  j.isupper():\n",
    "        print (j,end = \"\")\n",
    "  \n",
    "        \n"
   ]
  },
  {
   "cell_type": "code",
   "execution_count": null,
   "metadata": {},
   "outputs": [],
   "source": []
  }
 ],
 "metadata": {
  "kernelspec": {
   "display_name": "Python 3",
   "language": "python",
   "name": "python3"
  },
  "language_info": {
   "codemirror_mode": {
    "name": "ipython",
    "version": 3
   },
   "file_extension": ".py",
   "mimetype": "text/x-python",
   "name": "python",
   "nbconvert_exporter": "python",
   "pygments_lexer": "ipython3",
   "version": "3.6.5"
  }
 },
 "nbformat": 4,
 "nbformat_minor": 2
}
